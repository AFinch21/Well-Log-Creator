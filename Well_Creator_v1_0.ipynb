{
  "nbformat": 4,
  "nbformat_minor": 0,
  "metadata": {
    "anaconda-cloud": {},
    "kernelspec": {
      "display_name": "Python [default]",
      "language": "python",
      "name": "python3"
    },
    "language_info": {
      "codemirror_mode": {
        "name": "ipython",
        "version": 3
      },
      "file_extension": ".py",
      "mimetype": "text/x-python",
      "name": "python",
      "nbconvert_exporter": "python",
      "pygments_lexer": "ipython3",
      "version": "3.5.2"
    },
    "colab": {
      "name": "Well Creator v1.0.ipynb",
      "provenance": [],
      "collapsed_sections": []
    }
  },
  "cells": [
    {
      "cell_type": "code",
      "metadata": {
        "colab": {
          "base_uri": "https://localhost:8080/",
          "height": 419
        },
        "id": "rKhco44vLIDT",
        "outputId": "3f467dee-c919-41bb-9295-e58dc0aba030"
      },
      "source": [
        "import pandas as pd\n",
        "import numpy as np\n",
        "import matplotlib.pyplot as plt\n",
        "\n",
        "from random import randint\n",
        "\n",
        "depth = range(1,100)\n",
        "\n",
        "df = pd.DataFrame(columns = ['Depth', 'Rock_Type', 'Bed_Num'])\n",
        "df['Depth']=depth\n",
        "\n",
        "\n",
        "maxsstthickness = 30\n",
        "minsstthickness = 10\n",
        "\n",
        "maxshthickness = 10\n",
        "minshthickness = 6\n",
        "\n",
        "x = 1\n",
        "\n",
        "def gamma(rocktype):\n",
        "    if rocktype == \"Sst\":\n",
        "      return randint(40,100)\n",
        "    elif rocktype == \"Sh\":\n",
        "      return randint(80,140)\n",
        "\n",
        "def density(rocktype):\n",
        "    if rocktype == \"Sst\":\n",
        "      return (randint(20,33)/10)\n",
        "    elif rocktype == \"Sh\":\n",
        "      return (randint(16,23)/10)\n",
        "\n",
        "def wellmaker(depth):\n",
        "    top = 0\n",
        "    base = 0\n",
        "    bednum = 1\n",
        "    while top < depth:\n",
        "        \n",
        "        temp_Sstdensity = []\n",
        "        temp_Shdensity = []\n",
        "        \n",
        "        bedSst = randint(minsstthickness,maxsstthickness)\n",
        "        base = top + bedSst\n",
        "        df.iloc[top:base,1] = 'Sst'\n",
        "        df.iloc[top:base,2] = bednum\n",
        "        bednum += 1\n",
        "        top += bedSst\n",
        "        temp_Sstdensity = []\n",
        "        \n",
        "        bedSh = randint(minshthickness,maxshthickness)\n",
        "        base = top + bedSh\n",
        "        df.iloc[top:base,1] = 'Sh'\n",
        "        df.iloc[top:base,2] = bednum\n",
        "        bednum += 1        \n",
        "        top += bedSh    \n",
        "\n",
        "        df[\"GR\"] = df.Rock_Type.apply(gamma)\n",
        "        df[\"Density\"] = df.Rock_Type.apply(density)\n",
        "\n",
        "        \n",
        "        \n",
        "wellmaker(100)\n",
        "\n",
        "\n",
        "df\n"
      ],
      "execution_count": 35,
      "outputs": [
        {
          "output_type": "execute_result",
          "data": {
            "text/html": [
              "<div>\n",
              "<style scoped>\n",
              "    .dataframe tbody tr th:only-of-type {\n",
              "        vertical-align: middle;\n",
              "    }\n",
              "\n",
              "    .dataframe tbody tr th {\n",
              "        vertical-align: top;\n",
              "    }\n",
              "\n",
              "    .dataframe thead th {\n",
              "        text-align: right;\n",
              "    }\n",
              "</style>\n",
              "<table border=\"1\" class=\"dataframe\">\n",
              "  <thead>\n",
              "    <tr style=\"text-align: right;\">\n",
              "      <th></th>\n",
              "      <th>Depth</th>\n",
              "      <th>Rock_Type</th>\n",
              "      <th>Bed_Num</th>\n",
              "      <th>GR</th>\n",
              "      <th>Density</th>\n",
              "    </tr>\n",
              "  </thead>\n",
              "  <tbody>\n",
              "    <tr>\n",
              "      <th>0</th>\n",
              "      <td>1</td>\n",
              "      <td>Sst</td>\n",
              "      <td>1</td>\n",
              "      <td>53</td>\n",
              "      <td>3.1</td>\n",
              "    </tr>\n",
              "    <tr>\n",
              "      <th>1</th>\n",
              "      <td>2</td>\n",
              "      <td>Sst</td>\n",
              "      <td>1</td>\n",
              "      <td>97</td>\n",
              "      <td>2.0</td>\n",
              "    </tr>\n",
              "    <tr>\n",
              "      <th>2</th>\n",
              "      <td>3</td>\n",
              "      <td>Sst</td>\n",
              "      <td>1</td>\n",
              "      <td>92</td>\n",
              "      <td>2.7</td>\n",
              "    </tr>\n",
              "    <tr>\n",
              "      <th>3</th>\n",
              "      <td>4</td>\n",
              "      <td>Sst</td>\n",
              "      <td>1</td>\n",
              "      <td>95</td>\n",
              "      <td>3.1</td>\n",
              "    </tr>\n",
              "    <tr>\n",
              "      <th>4</th>\n",
              "      <td>5</td>\n",
              "      <td>Sst</td>\n",
              "      <td>1</td>\n",
              "      <td>91</td>\n",
              "      <td>2.9</td>\n",
              "    </tr>\n",
              "    <tr>\n",
              "      <th>...</th>\n",
              "      <td>...</td>\n",
              "      <td>...</td>\n",
              "      <td>...</td>\n",
              "      <td>...</td>\n",
              "      <td>...</td>\n",
              "    </tr>\n",
              "    <tr>\n",
              "      <th>94</th>\n",
              "      <td>95</td>\n",
              "      <td>Sh</td>\n",
              "      <td>8</td>\n",
              "      <td>99</td>\n",
              "      <td>2.1</td>\n",
              "    </tr>\n",
              "    <tr>\n",
              "      <th>95</th>\n",
              "      <td>96</td>\n",
              "      <td>Sh</td>\n",
              "      <td>8</td>\n",
              "      <td>98</td>\n",
              "      <td>2.2</td>\n",
              "    </tr>\n",
              "    <tr>\n",
              "      <th>96</th>\n",
              "      <td>97</td>\n",
              "      <td>Sh</td>\n",
              "      <td>8</td>\n",
              "      <td>80</td>\n",
              "      <td>1.9</td>\n",
              "    </tr>\n",
              "    <tr>\n",
              "      <th>97</th>\n",
              "      <td>98</td>\n",
              "      <td>Sh</td>\n",
              "      <td>8</td>\n",
              "      <td>99</td>\n",
              "      <td>1.6</td>\n",
              "    </tr>\n",
              "    <tr>\n",
              "      <th>98</th>\n",
              "      <td>99</td>\n",
              "      <td>Sh</td>\n",
              "      <td>8</td>\n",
              "      <td>125</td>\n",
              "      <td>1.7</td>\n",
              "    </tr>\n",
              "  </tbody>\n",
              "</table>\n",
              "<p>99 rows × 5 columns</p>\n",
              "</div>"
            ],
            "text/plain": [
              "    Depth Rock_Type Bed_Num   GR  Density\n",
              "0       1       Sst       1   53      3.1\n",
              "1       2       Sst       1   97      2.0\n",
              "2       3       Sst       1   92      2.7\n",
              "3       4       Sst       1   95      3.1\n",
              "4       5       Sst       1   91      2.9\n",
              "..    ...       ...     ...  ...      ...\n",
              "94     95        Sh       8   99      2.1\n",
              "95     96        Sh       8   98      2.2\n",
              "96     97        Sh       8   80      1.9\n",
              "97     98        Sh       8   99      1.6\n",
              "98     99        Sh       8  125      1.7\n",
              "\n",
              "[99 rows x 5 columns]"
            ]
          },
          "metadata": {
            "tags": []
          },
          "execution_count": 35
        }
      ]
    },
    {
      "cell_type": "code",
      "metadata": {
        "colab": {
          "base_uri": "https://localhost:8080/",
          "height": 282
        },
        "id": "KGLYhhi6Rwxr",
        "outputId": "74ead93c-81ac-4ce8-8298-ea8385ff523a"
      },
      "source": [
        "plt.plot(df.GR,df.Depth)\n",
        "plt.plot(df.Density,df.Depth)"
      ],
      "execution_count": 38,
      "outputs": [
        {
          "output_type": "execute_result",
          "data": {
            "text/plain": [
              "[<matplotlib.lines.Line2D at 0x7f4df63b7690>]"
            ]
          },
          "metadata": {
            "tags": []
          },
          "execution_count": 38
        },
        {
          "output_type": "display_data",
          "data": {
            "image/png": "[encoded data removed]",
            "text/plain": [
              "<Figure size 432x288 with 1 Axes>"
            ]
          },
          "metadata": {
            "tags": [],
            "needs_background": "light"
          }
        }
      ]
    }
  ]
}